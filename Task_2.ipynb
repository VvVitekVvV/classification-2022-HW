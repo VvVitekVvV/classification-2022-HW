{
 "cells": [
  {
   "cell_type": "code",
   "execution_count": 1,
   "metadata": {},
   "outputs": [],
   "source": [
    "import numpy as np\n",
    "import scipy as sp\n",
    "import matplotlib.pyplot as plt\n",
    "import seaborn as sns\n",
    "\n",
    "%matplotlib inline\n"
   ]
  },
  {
   "cell_type": "markdown",
   "metadata": {},
   "source": [
    "# 2. Работа с массивами NumPy"
   ]
  },
  {
   "cell_type": "markdown",
   "metadata": {},
   "source": [
    "**N. Все упражнения ниже нужно делать без использования циклов Python**\n",
    "\n",
    "**2.1.** Cоздать вектор\n",
    "\n",
    "$$(2, \\frac{2^2}{2}, \\ldots, \\frac{2^{20}}{20})$$\n",
    "\n",
    "Можно использовать функции [np.arange()](http://docs.scipy.org/doc/numpy/reference/generated/numpy.arange.html), [np.ones()](http://docs.scipy.org/doc/numpy/reference/generated/numpy.ones.html)"
   ]
  },
  {
   "cell_type": "code",
   "execution_count": 32,
   "metadata": {},
   "outputs": [
    {
     "name": "stdout",
     "output_type": "stream",
     "text": [
      "[2.00000000e+00 2.00000000e+00 2.66666667e+00 4.00000000e+00\n",
      " 6.40000000e+00 1.06666667e+01 1.82857143e+01 3.20000000e+01\n",
      " 5.68888889e+01 1.02400000e+02 1.86181818e+02 3.41333333e+02\n",
      " 6.30153846e+02 1.17028571e+03 2.18453333e+03 4.09600000e+03\n",
      " 7.71011765e+03 1.45635556e+04 2.75941053e+04 5.24288000e+04]\n"
     ]
    }
   ],
   "source": [
    "i = np.arange(1, 21)\n",
    "vector = 2 ** i / i\n",
    "print(vector)\n"
   ]
  },
  {
   "cell_type": "markdown",
   "metadata": {},
   "source": [
    "**2.2.** Посчитать:\n",
    "\n",
    "$$\\sum\\limits_{i=0}^{5}{0.1^{3i}0.2^{4i}}$$\n"
   ]
  },
  {
   "cell_type": "code",
   "execution_count": 4,
   "metadata": {},
   "outputs": [
    {
     "name": "stdout",
     "output_type": "stream",
     "text": [
      "1.00000160000256\n"
     ]
    }
   ],
   "source": [
    "i = np.arange(0, 6)\n",
    "vector = 0.1 ** (3 * i) * 0.2 ** (4 * i)\n",
    "s = sum(vector)\n",
    "print(s)\n"
   ]
  },
  {
   "cell_type": "markdown",
   "metadata": {},
   "source": [
    "**2.3.** Создать нулевую матрицe $8 \\times 8$, и заполнить её единицами в шахматном порядке."
   ]
  },
  {
   "cell_type": "code",
   "execution_count": 26,
   "metadata": {},
   "outputs": [
    {
     "name": "stdout",
     "output_type": "stream",
     "text": [
      "[[1. 0. 1. 0. 1. 0. 1. 0.]\n",
      " [0. 1. 0. 1. 0. 1. 0. 1.]\n",
      " [1. 0. 1. 0. 1. 0. 1. 0.]\n",
      " [0. 1. 0. 1. 0. 1. 0. 1.]\n",
      " [1. 0. 1. 0. 1. 0. 1. 0.]\n",
      " [0. 1. 0. 1. 0. 1. 0. 1.]\n",
      " [1. 0. 1. 0. 1. 0. 1. 0.]\n",
      " [0. 1. 0. 1. 0. 1. 0. 1.]]\n"
     ]
    }
   ],
   "source": [
    "matrix = np.ones((8, 8))\n",
    "matrix[::2, 1::2] = 0\n",
    "matrix[1::2, ::2] = 0\n",
    "print(matrix)\n"
   ]
  },
  {
   "cell_type": "markdown",
   "metadata": {},
   "source": [
    "**2.4.** Есть 5 точек в декартовой системе координат (в виде матрицы $X$ размерностью $5 \\times 2$), сконвертируйте эти точки в полярную систему координат."
   ]
  },
  {
   "cell_type": "code",
   "execution_count": 79,
   "metadata": {},
   "outputs": [
    {
     "name": "stdout",
     "output_type": "stream",
     "text": [
      "[[0.97465782 0.65313459]\n",
      " [0.10815119 0.55981671]\n",
      " [0.79908019 0.29420212]\n",
      " [0.06133746 0.278114  ]\n",
      " [0.11321555 0.77047813]]\n",
      "[[1.17326154 0.59038736]\n",
      " [0.57016789 1.37995699]\n",
      " [0.85151867 0.35277457]\n",
      " [0.28479761 1.35372349]\n",
      " [0.77875177 1.42489848]]\n"
     ]
    }
   ],
   "source": [
    "X = np.random.random((5, 2))\n",
    "\n",
    "print(X)\n",
    "Xp = np.ones((5, 2))\n",
    "Xp[:, 0] = np.sqrt(np.sum(X ** 2, axis=1))\n",
    "Xp[:, 1] = np.arctan(X[:, 1] / X[:, 0])\n",
    "print(Xp)\n"
   ]
  },
  {
   "cell_type": "markdown",
   "metadata": {},
   "source": [
    "**2.5.** Найдите индексы максимального элемента в случайной матрице $10 \\times 10$.\n",
    "\n",
    "Cм. [np.argmax()](http://docs.scipy.org/doc/numpy/reference/generated/numpy.argmax.html)."
   ]
  },
  {
   "cell_type": "code",
   "execution_count": 74,
   "metadata": {},
   "outputs": [
    {
     "name": "stdout",
     "output_type": "stream",
     "text": [
      "[[0.52207213 0.81751449 0.52357525 0.95813869 0.44479342 0.20891836\n",
      "  0.40275238 0.23716089 0.15913875 0.02546548]\n",
      " [0.70759497 0.54767312 0.81601919 0.31051752 0.91779215 0.22900638\n",
      "  0.67336968 0.19211136 0.98851162 0.66841835]\n",
      " [0.87564734 0.1060854  0.9317057  0.88280017 0.42375684 0.2897718\n",
      "  0.97297173 0.49334898 0.27933982 0.83726267]\n",
      " [0.11491065 0.37593997 0.14979822 0.93002052 0.17871705 0.96134013\n",
      "  0.19913367 0.28279656 0.75591302 0.06554983]\n",
      " [0.25329555 0.93621446 0.23806085 0.06210504 0.61659997 0.35998637\n",
      "  0.4643628  0.60695417 0.91653364 0.5079199 ]\n",
      " [0.62530492 0.65123191 0.69869598 0.06209894 0.02638158 0.93491164\n",
      "  0.42700403 0.86396507 0.36768561 0.8550259 ]\n",
      " [0.39303747 0.926531   0.65830219 0.55279812 0.1452993  0.52238879\n",
      "  0.18198799 0.76728033 0.02572206 0.00564182]\n",
      " [0.87075722 0.51660406 0.02161138 0.43567075 0.20564676 0.17492726\n",
      "  0.88659713 0.54751844 0.97763056 0.6658465 ]\n",
      " [0.22544608 0.2049853  0.39496633 0.99862372 0.0614247  0.47617794\n",
      "  0.50082856 0.79609403 0.85751086 0.19338834]\n",
      " [0.33313586 0.45270413 0.46025564 0.4595983  0.61059965 0.77403228\n",
      "  0.15285716 0.98462822 0.66105316 0.38282054]]\n",
      "(8, 3)\n"
     ]
    }
   ],
   "source": [
    "X = np.random.random((10, 10))\n",
    "\n",
    "print(X)\n",
    "arg = np.argmax(X)\n",
    "print((arg // 10, arg % 10))\n"
   ]
  },
  {
   "cell_type": "markdown",
   "metadata": {},
   "source": [
    "**2.6.** Есть 10 точек ($X$) и ещё одна ($y$). Найти в $X$ ближайшую к $y$ точку."
   ]
  },
  {
   "cell_type": "code",
   "execution_count": 87,
   "metadata": {},
   "outputs": [
    {
     "name": "stdout",
     "output_type": "stream",
     "text": [
      "[[0.94807584 0.77350496]\n",
      " [0.26107249 0.17920362]\n",
      " [0.97456584 0.48813398]\n",
      " [0.56750688 0.54968799]\n",
      " [0.32179938 0.99279348]\n",
      " [0.63187243 0.80025505]\n",
      " [0.40977411 0.59082025]\n",
      " [0.57539437 0.4223686 ]\n",
      " [0.08797759 0.77714883]\n",
      " [0.89503711 0.27398489]]\n",
      "[[0.56691419 0.73175681]]\n",
      "[0.63187243 0.80025505]\n"
     ]
    }
   ],
   "source": [
    "X = np.random.random((10, 2))\n",
    "y = np.random.random((1, 2))\n",
    "\n",
    "print(X)\n",
    "print(y)\n",
    "q = np.sqrt(np.sum((X - y) ** 2, axis=1))\n",
    "print(X[np.argmin(q)])\n"
   ]
  },
  {
   "cell_type": "markdown",
   "metadata": {},
   "source": [
    "**2.7.** Дана функция:\n",
    "\n",
    "$$\n",
    " \\begin{cases}\n",
    "    x^2 + 2x + 6, & x < 0  \\\\\n",
    "    x + 6, & 0 \\le x \\le 2 \\\\\n",
    "    x^2 + 4x - 4, & x \\ge 2\n",
    " \\end{cases}\n",
    "$$\n",
    "\n",
    "Постройте массив из её значений на  $-3 \\le x \\le 3$."
   ]
  },
  {
   "cell_type": "code",
   "execution_count": 100,
   "metadata": {},
   "outputs": [
    {
     "data": {
      "text/plain": [
       "[9, 6, 5, 6, 7, 8, 17]"
      ]
     },
     "execution_count": 100,
     "metadata": {},
     "output_type": "execute_result"
    }
   ],
   "source": [
    "def f(x):\n",
    "    if x < 0:\n",
    "        return x**2 + 2*x + 6\n",
    "    elif x >= 2:\n",
    "        return x**2 + 4*x - 4\n",
    "    else:\n",
    "        return x + 6\n",
    "\n",
    "\n",
    "x = np.arange(-3, 4)\n",
    "\n",
    "list(map(f, x))\n"
   ]
  },
  {
   "cell_type": "markdown",
   "metadata": {},
   "source": [
    "**2.8.** Из каждого элемента матрицы вычесть среднее арифметическое от всех элементов в соответствующей строке (после чего среднее значение каждой строки должно равняться нулю).\n",
    "\n",
    "Cм. [np.mean()](http://docs.scipy.org/doc/numpy/reference/generated/numpy.mean.html)."
   ]
  },
  {
   "cell_type": "code",
   "execution_count": 101,
   "metadata": {},
   "outputs": [
    {
     "name": "stdout",
     "output_type": "stream",
     "text": [
      "[[ 0.19148454  0.34263451 -0.18599243  0.27386861  0.08065815 -0.26233629\n",
      "  -0.15728997 -0.12863233 -0.05834286 -0.09605192]\n",
      " [-0.46047167  0.27288605 -0.37431752  0.46658978 -0.33081467 -0.10411626\n",
      "  -0.44191908  0.40371975  0.29104864  0.27739499]\n",
      " [ 0.38281239 -0.43531186  0.11222806  0.35556734  0.41204715 -0.35107118\n",
      "  -0.34572238  0.20899863 -0.01957383 -0.31997432]\n",
      " [ 0.05389837  0.23130093 -0.06855446  0.38416312  0.21556389  0.44706944\n",
      "  -0.34710588 -0.43684253 -0.01575524 -0.46373765]\n",
      " [ 0.36127411  0.39665921 -0.45203573  0.14896963  0.20391969 -0.45149594\n",
      "   0.24988552 -0.3786352  -0.49513413  0.41659285]\n",
      " [-0.29722745  0.4464415   0.4860069   0.07706037 -0.27009926 -0.16672062\n",
      "  -0.01503783 -0.40006679  0.4241278  -0.28448462]\n",
      " [ 0.11442114 -0.46332199 -0.32910444  0.44179362  0.29491245  0.31401317\n",
      "   0.20142656 -0.3899025  -0.14436551 -0.0398725 ]\n",
      " [ 0.46470851  0.3260066  -0.17812678  0.34181972 -0.31657236  0.00443453\n",
      "  -0.34485478 -0.12929246 -0.36964779  0.2015248 ]\n",
      " [ 0.31782894  0.01239165  0.24407879 -0.22016094  0.13593328 -0.13035237\n",
      "  -0.06269063  0.09739832 -0.40666369  0.01223665]\n",
      " [ 0.07058776 -0.08661264 -0.00759543 -0.19142547 -0.31105645  0.31582767\n",
      "   0.01570253 -0.06246796  0.39246682 -0.13542683]]\n",
      "[ 5.55111512e-17 -1.11022302e-17  1.11022302e-17 -1.11022302e-17\n",
      "  8.88178420e-17 -7.77156117e-17  0.00000000e+00  1.11022302e-17\n",
      "  5.55111512e-17  0.00000000e+00]\n"
     ]
    }
   ],
   "source": [
    "X = np.random.random((10, 10))\n",
    "\n",
    "# print(X)\n",
    "Xm = X - np.mean(X, axis=1, keepdims=True)\n",
    "print(Xm)\n",
    "print(np.mean(Xm, axis=1))\n"
   ]
  },
  {
   "cell_type": "markdown",
   "metadata": {},
   "source": [
    "**2.9.** Есть массив из 1000 чисел, полученных из генератора случайных чисел, имеющий нормальное распределение. Посчитайте выборочное среднее и выборочную дисперсию. "
   ]
  },
  {
   "cell_type": "code",
   "execution_count": 106,
   "metadata": {},
   "outputs": [
    {
     "name": "stdout",
     "output_type": "stream",
     "text": [
      "5.142238627798979 4.064704943891719\n"
     ]
    }
   ],
   "source": [
    "X = np.random.normal(loc=5, scale=2., size=1000)\n",
    "\n",
    "print(np.mean(X), np.var(X))\n"
   ]
  },
  {
   "cell_type": "markdown",
   "metadata": {},
   "source": [
    "**2.10.** Создать матрицу (NB. БЕЗ ЦИКЛОВ И ИЗМЕНЕНИЯ ОТДЕЛЬНЫХ ЭЛЕМЕНТОВ):\n",
    "\n",
    "$$\n",
    "\\begin{pmatrix}\n",
    "0 & 1 & 2 & 3 & 4 \\\\\n",
    "1 & 2 & 3 & 4 & 0 \\\\\n",
    "2 & 3 & 4 & 0 & 1 \\\\\n",
    "3 & 4 & 0 & 1 & 2 \\\\\n",
    "4 & 0 & 1 & 2 & 3\n",
    "\\end{pmatrix}\n",
    "$$"
   ]
  },
  {
   "cell_type": "code",
   "execution_count": 107,
   "metadata": {},
   "outputs": [
    {
     "name": "stdout",
     "output_type": "stream",
     "text": [
      "[0 1 2 3 4]\n",
      "[[0]\n",
      " [1]\n",
      " [2]\n",
      " [3]\n",
      " [4]]\n",
      "[[0 1 2 3 4]\n",
      " [1 2 3 4 5]\n",
      " [2 3 4 5 6]\n",
      " [3 4 5 6 7]\n",
      " [4 5 6 7 8]]\n",
      "[[0 1 2 3 4]\n",
      " [1 2 3 4 0]\n",
      " [2 3 4 0 1]\n",
      " [3 4 0 1 2]\n",
      " [4 0 1 2 3]]\n"
     ]
    }
   ],
   "source": [
    "x = np.arange(5)\n",
    "x_ = x.reshape(5, 1)\n",
    "x = x + x_\n",
    "x = x % 5\n",
    "print(x)\n"
   ]
  },
  {
   "cell_type": "markdown",
   "metadata": {},
   "source": [
    "**2.11.** Есть следующий алгоритм семплинирования, на вход функции подается вектор из целых положительных чисел и число семплов."
   ]
  },
  {
   "cell_type": "code",
   "execution_count": 115,
   "metadata": {},
   "outputs": [
    {
     "data": {
      "text/plain": [
       "[0, 3, 0, 4, 0]"
      ]
     },
     "execution_count": 115,
     "metadata": {},
     "output_type": "execute_result"
    }
   ],
   "source": [
    "def sample(x, c):\n",
    "    assert len(x) > 0\n",
    "    \n",
    "    s = np.sum(x)\n",
    "    res = []\n",
    "    for _ in range(c):\n",
    "        val = s * np.random.random()\n",
    "        cur, idx = 0, 0        \n",
    "        while cur + x[idx] <= val:\n",
    "            cur += x[idx]\n",
    "            idx += 1\n",
    "            \n",
    "        res.append(idx)\n",
    "    return res\n",
    "\n",
    "            \n",
    "sample([50, 3, 1, 7, 20], 5)    "
   ]
  },
  {
   "cell_type": "markdown",
   "metadata": {},
   "source": [
    "Реализуйте данный алгоритм более оптимальным способом, без использования циклов."
   ]
  },
  {
   "cell_type": "code",
   "execution_count": 133,
   "metadata": {},
   "outputs": [
    {
     "name": "stdout",
     "output_type": "stream",
     "text": [
      "[0 0 3 0 4]\n"
     ]
    }
   ],
   "source": [
    "def sample(x, c):\n",
    "    assert len(x) > 0\n",
    "\n",
    "    s = np.sum(x)\n",
    "    val = s * np.random.random(c)\n",
    "    res = np.argmin((np.cumsum(x) <= val.reshape(-1, 1)), axis=1)\n",
    "    return res\n",
    "\n",
    "\n",
    "print(sample([50, 3, 1, 7, 20], 5))\n"
   ]
  }
 ],
 "metadata": {
  "kernelspec": {
   "display_name": "Python 3.10.4 64-bit",
   "language": "python",
   "name": "python3"
  },
  "language_info": {
   "codemirror_mode": {
    "name": "ipython",
    "version": 3
   },
   "file_extension": ".py",
   "mimetype": "text/x-python",
   "name": "python",
   "nbconvert_exporter": "python",
   "pygments_lexer": "ipython3",
   "version": "3.10.4"
  },
  "vscode": {
   "interpreter": {
    "hash": "916dbcbb3f70747c44a77c7bcd40155683ae19c65e1c03b4aa3499c5328201f1"
   }
  }
 },
 "nbformat": 4,
 "nbformat_minor": 4
}
