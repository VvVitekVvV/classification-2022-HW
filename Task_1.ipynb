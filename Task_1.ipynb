{
 "cells": [
  {
   "cell_type": "markdown",
   "metadata": {},
   "source": [
    "# Задание 1.1\n",
    "\n",
    "[Свертка списка](https://ru.wikipedia.org/wiki/%D0%A1%D0%B2%D1%91%D1%80%D1%82%D0%BA%D0%B0_%D1%81%D0%BF%D0%B8%D1%81%D0%BA%D0%B0) -  это обобщенная операция над списком, c помощью которой можно преобразовать список в единое значение. Например, рассмотрим реализации свертки слева и свертки справа (левоассоциативную свертку и правоассоциативную свертку):"
   ]
  },
  {
   "cell_type": "code",
   "execution_count": 4,
   "metadata": {
    "collapsed": true,
    "jupyter": {
     "outputs_hidden": true
    }
   },
   "outputs": [],
   "source": [
    "def foldl(f, x0, lst):\n",
    "    if not lst:\n",
    "        return x0\n",
    "    return foldl(f, f(x0, lst[0]), lst[1:])\n",
    "\n",
    "\n",
    "def foldr(f, x0, lst):\n",
    "    if not lst:\n",
    "        return x0\n",
    "    return f(lst[0], foldr(f, x0, lst[1:]))\n"
   ]
  },
  {
   "cell_type": "code",
   "execution_count": 5,
   "metadata": {},
   "outputs": [
    {
     "data": {
      "text/plain": [
       "6"
      ]
     },
     "execution_count": 5,
     "metadata": {},
     "output_type": "execute_result"
    }
   ],
   "source": [
    "# сумма\n",
    "foldl(lambda x, y: x + y, 0, [1, 2, 3])\n"
   ]
  },
  {
   "cell_type": "code",
   "execution_count": 6,
   "metadata": {},
   "outputs": [
    {
     "data": {
      "text/plain": [
       "'123'"
      ]
     },
     "execution_count": 6,
     "metadata": {},
     "output_type": "execute_result"
    }
   ],
   "source": [
    "# конкатенация\n",
    "foldl(lambda x, y: '{}{}'.format(x, y), '', [1, 2, 3])\n"
   ]
  },
  {
   "cell_type": "code",
   "execution_count": 7,
   "metadata": {},
   "outputs": [
    {
     "data": {
      "text/plain": [
       "(0.16666666666666666, 1.5)"
      ]
     },
     "execution_count": 7,
     "metadata": {},
     "output_type": "execute_result"
    }
   ],
   "source": [
    "def f(x, y): return x / y\n",
    "\n",
    "\n",
    "foldl(f, 1, [1, 2, 3]), \\\n",
    "    foldr(f, 1, [1, 2, 3])\n"
   ]
  },
  {
   "cell_type": "markdown",
   "metadata": {},
   "source": [
    "Задача: реализовать foldl через foldr и наоборот. Вместо многоточий нужно вставить выражения, которые бы привели к нужному результату. Модифицировать сам список нельзя. "
   ]
  },
  {
   "cell_type": "code",
   "execution_count": 14,
   "metadata": {
    "collapsed": true,
    "jupyter": {
     "outputs_hidden": true
    }
   },
   "outputs": [],
   "source": [
    "def foldl2(f, x0, lst):\n",
    "    return foldr(lambda x, y: lambda t: y(f(t, x)), lambda x: x, lst)(x0)\n"
   ]
  },
  {
   "cell_type": "code",
   "execution_count": 15,
   "metadata": {
    "collapsed": true,
    "jupyter": {
     "outputs_hidden": true
    }
   },
   "outputs": [],
   "source": [
    "def foldr2(f, x0, lst):\n",
    "    return foldl(lambda y, x: lambda t: y(f(x, t)), lambda x: x, lst)(x0)\n"
   ]
  },
  {
   "cell_type": "code",
   "execution_count": 16,
   "metadata": {},
   "outputs": [
    {
     "data": {
      "text/plain": [
       "(0.16666666666666666, 1.5)"
      ]
     },
     "execution_count": 16,
     "metadata": {},
     "output_type": "execute_result"
    }
   ],
   "source": [
    "def f(x, y): return x / y\n",
    "\n",
    "\n",
    "foldl2(f, 1, [1, 2, 3]), \\\n",
    "    foldr2(f, 1, [1, 2, 3])\n"
   ]
  },
  {
   "cell_type": "markdown",
   "metadata": {},
   "source": [
    "# Задание 1.2\n",
    "\n",
    "нужно написать функцию, которая принимает две строки и проверяет, входит ли хотя бы одна перестановка второй строки в первую. Например:\n",
    "\n",
    "> a = 'abcrotm'\n",
    "> \n",
    "> b = 'tro'\n",
    "\n",
    "функция def check_inv(a, b) вернет True, так как 'rot' содержится в 'abcrotm'. Нужно подумать как можно более оптимальный алгоритм и оценить его сложность. "
   ]
  },
  {
   "cell_type": "code",
   "execution_count": 2,
   "metadata": {
    "collapsed": true,
    "jupyter": {
     "outputs_hidden": true
    }
   },
   "outputs": [],
   "source": [
    "from itertools import permutations\n",
    "\n",
    "\n",
    "def check_inv(a, b):\n",
    "    b_all = [''.join(p) for p in permutations(b)]\n",
    "    for x in b_all:\n",
    "        if x in a:\n",
    "            return True\n",
    "    return False\n"
   ]
  },
  {
   "cell_type": "code",
   "execution_count": 3,
   "metadata": {},
   "outputs": [
    {
     "name": "stdout",
     "output_type": "stream",
     "text": [
      "True\n",
      "False\n"
     ]
    }
   ],
   "source": [
    "a = 'abcrotm'\n",
    "b = 'tro'\n",
    "print(check_inv(a, b))\n",
    "\n",
    "a = 'abcrdotm'\n",
    "b = 'tro'\n",
    "print(check_inv(a, b))\n"
   ]
  },
  {
   "cell_type": "markdown",
   "metadata": {},
   "source": [
    "# Задание 1.3\n",
    "\n",
    "Реализовать бинарное дерево (класс Tree), в нём методы __repr__, __str__, __iter__ (итерация только по листьям)."
   ]
  },
  {
   "cell_type": "code",
   "execution_count": 56,
   "metadata": {},
   "outputs": [
    {
     "data": {
      "text/plain": [
       "True"
      ]
     },
     "execution_count": 56,
     "metadata": {},
     "output_type": "execute_result"
    }
   ],
   "source": [
    "class Tree:\n",
    "    def __init__(self, value=None, left=None, right=None):\n",
    "        self.left = left\n",
    "        self.right = right\n",
    "        self.value = value\n",
    "\n",
    "    def __iter__(self):\n",
    "        if not self.left and not self.right:\n",
    "            yield self.value\n",
    "        if self.left:\n",
    "            yield from self.left\n",
    "        if self.right:\n",
    "            yield from self.right\n",
    "\n",
    "    def __str__(self):\n",
    "        return f'{self.value}({self.left},{self.right})'.replace('None', '-').replace('(-,-)', '')\n",
    "\n",
    "    def __repr__(self):\n",
    "        return '{}({}, {}, {})'.format(self.__class__.__name__,\n",
    "                                       repr(self.value),\n",
    "                                       repr(self.left) if self.left else '-',\n",
    "                                       repr(self.right) if self.right else '-').replace(', -', '')\n",
    "\n",
    "\n",
    "tree = Tree(0, Tree(1, Tree(3), Tree(4)),\n",
    "            Tree(2))\n",
    "\n",
    "list(tree) == [3, 4, 2]\n",
    "\n"
   ]
  },
  {
   "cell_type": "code",
   "execution_count": 58,
   "metadata": {},
   "outputs": [
    {
     "name": "stdout",
     "output_type": "stream",
     "text": [
      "<generator object Tree.__iter__ at 0x00000258477BBBC0>\n",
      "0(1(3,4),2)\n",
      "Tree(0, Tree(1, Tree(3), Tree(4)), Tree(2))\n"
     ]
    }
   ],
   "source": [
    "print(tree.__iter__())\n",
    "print(tree.__str__())\n",
    "print(tree.__repr__())\n"
   ]
  },
  {
   "cell_type": "markdown",
   "metadata": {},
   "source": [
    "# Задание 1.4\n",
    "\n",
    "Реализовать простейший калькулятор математических выражений:\n",
    "- только целые числа\n",
    "- **+**, **\\-**, **\\***, **\\**\n",
    "- скобки\n",
    "\n",
    "**Можно использовать регулярные выражения**"
   ]
  },
  {
   "cell_type": "code",
   "execution_count": 45,
   "metadata": {},
   "outputs": [
    {
     "data": {
      "text/plain": [
       "True"
      ]
     },
     "execution_count": 45,
     "metadata": {},
     "output_type": "execute_result"
    }
   ],
   "source": [
    "def calc(expr):\n",
    "    value = ''\n",
    "    stack = []\n",
    "    sign_stack = []\n",
    "    brack_stack = []\n",
    "    i = 0\n",
    "    while i < len(expr):\n",
    "        x = expr[i]\n",
    "        if x == ' ':\n",
    "            pass\n",
    "        elif x in '1234567890':\n",
    "            value += x\n",
    "        elif x in '+-*':\n",
    "            if x == '*' and expr[i+1] == '*':\n",
    "                x = '^'\n",
    "                i += 1\n",
    "            if value == '' and x == '-':\n",
    "                pass\n",
    "            else:\n",
    "                stack.append(int(value))\n",
    "            sign_stack.append(x)\n",
    "            value = ''\n",
    "        elif x == '(':\n",
    "            brack_stack.append(i)\n",
    "            for j in range(len(expr))[i+1::]:\n",
    "                if expr[j] == ')':\n",
    "                    brack_stack.pop()\n",
    "                    if len(brack_stack) == 0:\n",
    "                        value = calc(expr[i + 1:j])\n",
    "                        i = j\n",
    "                        break\n",
    "                if expr[j] == '(':\n",
    "                    brack_stack.append(i)\n",
    "        i += 1\n",
    "    stack.append(int(value))\n",
    "    value = ''\n",
    "    i = 0\n",
    "    if len(stack) == len(sign_stack) and sign_stack[0] == '-':\n",
    "        stack[0] = -stack[0]\n",
    "        sign_stack.pop(0)\n",
    "    while len(stack) > 1:\n",
    "        if '^' in sign_stack:\n",
    "            if sign_stack[i] == '^':\n",
    "                stack[i] = stack[i] ** stack[i+1]\n",
    "                stack.pop(i+1)\n",
    "                sign_stack.pop(i)\n",
    "                i -= 1\n",
    "                if '^' not in sign_stack:\n",
    "                    i = -1\n",
    "        elif '*' in sign_stack:\n",
    "            if sign_stack[i] == '*':\n",
    "                stack[i] = stack[i] * stack[i+1]\n",
    "                stack.pop(i+1)\n",
    "                sign_stack.pop(i)\n",
    "                i -= 1\n",
    "                if '*' not in sign_stack:\n",
    "                    i = -1\n",
    "        else:\n",
    "            if sign_stack[i] == '+':\n",
    "                stack[i] = stack[i] + stack[i+1]\n",
    "            elif sign_stack[i] == '-':\n",
    "                stack[i] = stack[i] - stack[i+1]\n",
    "            stack.pop(i+1)\n",
    "            sign_stack.pop(i)\n",
    "            i -= 1\n",
    "        i += 1\n",
    "    return stack[0]\n",
    "\n",
    "\n",
    "calc('2 * (15 - 3 * 4) - 2') == 4\n"
   ]
  },
  {
   "cell_type": "code",
   "execution_count": null,
   "metadata": {},
   "outputs": [],
   "source": [
    "\n"
   ]
  }
 ],
 "metadata": {
  "kernelspec": {
   "display_name": "classification",
   "language": "python",
   "name": "classification"
  },
  "language_info": {
   "codemirror_mode": {
    "name": "ipython",
    "version": 3
   },
   "file_extension": ".py",
   "mimetype": "text/x-python",
   "name": "python",
   "nbconvert_exporter": "python",
   "pygments_lexer": "ipython3",
   "version": "3.10.7"
  },
  "vscode": {
   "interpreter": {
    "hash": "c1ec66e97402c59009518e32b4ee08941ad64bab2cc9debc58c6e2ab937b5ab3"
   }
  }
 },
 "nbformat": 4,
 "nbformat_minor": 4
}
