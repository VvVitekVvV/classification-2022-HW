{
 "cells": [
  {
   "cell_type": "markdown",
   "metadata": {},
   "source": [
    "# Задание 5. Извлечение данных "
   ]
  },
  {
   "cell_type": "markdown",
   "metadata": {},
   "source": [
    "## Задание 5.1\n",
    "\n",
    "Напишите скрипт, который скачивает  сообщения с Телеграм-канала https://t.me/Sputnik_results . Сохраните сообщения в формате по вашему выбору (.csv, .jsonl, sqlite, parquet, и т.д.). Откройте с помощью Pandas или аналогичных библиотек, постройте график числа сообщений в зависимости от даты. "
   ]
  },
  {
   "cell_type": "code",
   "execution_count": null,
   "metadata": {},
   "outputs": [],
   "source": [
    "%pip install -q telethon"
   ]
  },
  {
   "cell_type": "code",
   "execution_count": null,
   "metadata": {},
   "outputs": [],
   "source": [
    "%python ChannelMessages.py"
   ]
  },
  {
   "cell_type": "code",
   "execution_count": 6,
   "metadata": {},
   "outputs": [],
   "source": [
    "import pandas as pd\n",
    "import matplotlib.pyplot as plt\n",
    "import re\n",
    "import seaborn as sns\n",
    "import numpy"
   ]
  },
  {
   "cell_type": "code",
   "execution_count": 12,
   "metadata": {},
   "outputs": [
    {
     "data": {
      "text/html": [
       "<div>\n",
       "<style scoped>\n",
       "    .dataframe tbody tr th:only-of-type {\n",
       "        vertical-align: middle;\n",
       "    }\n",
       "\n",
       "    .dataframe tbody tr th {\n",
       "        vertical-align: top;\n",
       "    }\n",
       "\n",
       "    .dataframe thead th {\n",
       "        text-align: right;\n",
       "    }\n",
       "</style>\n",
       "<table border=\"1\" class=\"dataframe\">\n",
       "  <thead>\n",
       "    <tr style=\"text-align: right;\">\n",
       "      <th></th>\n",
       "      <th>_</th>\n",
       "      <th>id</th>\n",
       "      <th>peer_id</th>\n",
       "      <th>date</th>\n",
       "      <th>message</th>\n",
       "      <th>out</th>\n",
       "      <th>mentioned</th>\n",
       "      <th>media_unread</th>\n",
       "      <th>silent</th>\n",
       "      <th>post</th>\n",
       "      <th>...</th>\n",
       "      <th>views</th>\n",
       "      <th>forwards</th>\n",
       "      <th>replies</th>\n",
       "      <th>edit_date</th>\n",
       "      <th>post_author</th>\n",
       "      <th>grouped_id</th>\n",
       "      <th>reactions</th>\n",
       "      <th>restriction_reason</th>\n",
       "      <th>ttl_period</th>\n",
       "      <th>action</th>\n",
       "    </tr>\n",
       "  </thead>\n",
       "  <tbody>\n",
       "    <tr>\n",
       "      <th>0</th>\n",
       "      <td>Message</td>\n",
       "      <td>141866</td>\n",
       "      <td>{'_': 'PeerChannel', 'channel_id': 1367082089}</td>\n",
       "      <td>2022-12-14 09:00:00+00:00</td>\n",
       "      <td>Народные отчеты о вакцинации\\n\\n⚠️ ТОЛЬКО ПУБЛ...</td>\n",
       "      <td>False</td>\n",
       "      <td>False</td>\n",
       "      <td>False</td>\n",
       "      <td>False</td>\n",
       "      <td>False</td>\n",
       "      <td>...</td>\n",
       "      <td>NaN</td>\n",
       "      <td>NaN</td>\n",
       "      <td>{'_': 'MessageReplies', 'replies': 0, 'replies...</td>\n",
       "      <td>None</td>\n",
       "      <td>NaN</td>\n",
       "      <td>NaN</td>\n",
       "      <td>NaN</td>\n",
       "      <td>[]</td>\n",
       "      <td>NaN</td>\n",
       "      <td>NaN</td>\n",
       "    </tr>\n",
       "    <tr>\n",
       "      <th>1</th>\n",
       "      <td>Message</td>\n",
       "      <td>141863</td>\n",
       "      <td>{'_': 'PeerChannel', 'channel_id': 1367082089}</td>\n",
       "      <td>2022-12-12 23:10:46+00:00</td>\n",
       "      <td>#дети\\nМ 13 лет.  спутник м. \\n1я доза 23.10.2...</td>\n",
       "      <td>False</td>\n",
       "      <td>False</td>\n",
       "      <td>False</td>\n",
       "      <td>False</td>\n",
       "      <td>False</td>\n",
       "      <td>...</td>\n",
       "      <td>NaN</td>\n",
       "      <td>NaN</td>\n",
       "      <td>{'_': 'MessageReplies', 'replies': 0, 'replies...</td>\n",
       "      <td>None</td>\n",
       "      <td>NaN</td>\n",
       "      <td>NaN</td>\n",
       "      <td>NaN</td>\n",
       "      <td>[]</td>\n",
       "      <td>NaN</td>\n",
       "      <td>NaN</td>\n",
       "    </tr>\n",
       "    <tr>\n",
       "      <th>2</th>\n",
       "      <td>Message</td>\n",
       "      <td>141859</td>\n",
       "      <td>{'_': 'PeerChannel', 'channel_id': 1367082089}</td>\n",
       "      <td>2022-12-12 06:30:00+00:00</td>\n",
       "      <td>📣 ВЕСТНИК V1V2.ru выпуск #70 от 09.12.2022@09:...</td>\n",
       "      <td>False</td>\n",
       "      <td>False</td>\n",
       "      <td>False</td>\n",
       "      <td>False</td>\n",
       "      <td>False</td>\n",
       "      <td>...</td>\n",
       "      <td>NaN</td>\n",
       "      <td>NaN</td>\n",
       "      <td>{'_': 'MessageReplies', 'replies': 0, 'replies...</td>\n",
       "      <td>None</td>\n",
       "      <td>NaN</td>\n",
       "      <td>NaN</td>\n",
       "      <td>NaN</td>\n",
       "      <td>[]</td>\n",
       "      <td>NaN</td>\n",
       "      <td>NaN</td>\n",
       "    </tr>\n",
       "    <tr>\n",
       "      <th>3</th>\n",
       "      <td>Message</td>\n",
       "      <td>141848</td>\n",
       "      <td>{'_': 'PeerChannel', 'channel_id': 1367082089}</td>\n",
       "      <td>2022-12-09 07:23:43+00:00</td>\n",
       "      <td>#ревак  #назально  #спутник \\nМ 49 вторая доза...</td>\n",
       "      <td>False</td>\n",
       "      <td>False</td>\n",
       "      <td>False</td>\n",
       "      <td>False</td>\n",
       "      <td>False</td>\n",
       "      <td>...</td>\n",
       "      <td>NaN</td>\n",
       "      <td>NaN</td>\n",
       "      <td>None</td>\n",
       "      <td>None</td>\n",
       "      <td>NaN</td>\n",
       "      <td>NaN</td>\n",
       "      <td>NaN</td>\n",
       "      <td>[]</td>\n",
       "      <td>NaN</td>\n",
       "      <td>NaN</td>\n",
       "    </tr>\n",
       "    <tr>\n",
       "      <th>4</th>\n",
       "      <td>Message</td>\n",
       "      <td>141838</td>\n",
       "      <td>{'_': 'PeerChannel', 'channel_id': 1367082089}</td>\n",
       "      <td>2022-12-07 11:40:55+00:00</td>\n",
       "      <td>Уточните даты вакцинации, пожалуйста. Если ваш...</td>\n",
       "      <td>False</td>\n",
       "      <td>False</td>\n",
       "      <td>False</td>\n",
       "      <td>False</td>\n",
       "      <td>False</td>\n",
       "      <td>...</td>\n",
       "      <td>NaN</td>\n",
       "      <td>NaN</td>\n",
       "      <td>None</td>\n",
       "      <td>None</td>\n",
       "      <td>NaN</td>\n",
       "      <td>NaN</td>\n",
       "      <td>NaN</td>\n",
       "      <td>[]</td>\n",
       "      <td>NaN</td>\n",
       "      <td>NaN</td>\n",
       "    </tr>\n",
       "  </tbody>\n",
       "</table>\n",
       "<p>5 rows × 32 columns</p>\n",
       "</div>"
      ],
      "text/plain": [
       "         _      id                                         peer_id  \\\n",
       "0  Message  141866  {'_': 'PeerChannel', 'channel_id': 1367082089}   \n",
       "1  Message  141863  {'_': 'PeerChannel', 'channel_id': 1367082089}   \n",
       "2  Message  141859  {'_': 'PeerChannel', 'channel_id': 1367082089}   \n",
       "3  Message  141848  {'_': 'PeerChannel', 'channel_id': 1367082089}   \n",
       "4  Message  141838  {'_': 'PeerChannel', 'channel_id': 1367082089}   \n",
       "\n",
       "                       date  \\\n",
       "0 2022-12-14 09:00:00+00:00   \n",
       "1 2022-12-12 23:10:46+00:00   \n",
       "2 2022-12-12 06:30:00+00:00   \n",
       "3 2022-12-09 07:23:43+00:00   \n",
       "4 2022-12-07 11:40:55+00:00   \n",
       "\n",
       "                                             message    out  mentioned  \\\n",
       "0  Народные отчеты о вакцинации\\n\\n⚠️ ТОЛЬКО ПУБЛ...  False      False   \n",
       "1  #дети\\nМ 13 лет.  спутник м. \\n1я доза 23.10.2...  False      False   \n",
       "2  📣 ВЕСТНИК V1V2.ru выпуск #70 от 09.12.2022@09:...  False      False   \n",
       "3  #ревак  #назально  #спутник \\nМ 49 вторая доза...  False      False   \n",
       "4  Уточните даты вакцинации, пожалуйста. Если ваш...  False      False   \n",
       "\n",
       "   media_unread  silent   post  ...  views  forwards  \\\n",
       "0         False   False  False  ...    NaN       NaN   \n",
       "1         False   False  False  ...    NaN       NaN   \n",
       "2         False   False  False  ...    NaN       NaN   \n",
       "3         False   False  False  ...    NaN       NaN   \n",
       "4         False   False  False  ...    NaN       NaN   \n",
       "\n",
       "                                             replies  edit_date  post_author  \\\n",
       "0  {'_': 'MessageReplies', 'replies': 0, 'replies...       None          NaN   \n",
       "1  {'_': 'MessageReplies', 'replies': 0, 'replies...       None          NaN   \n",
       "2  {'_': 'MessageReplies', 'replies': 0, 'replies...       None          NaN   \n",
       "3                                               None       None          NaN   \n",
       "4                                               None       None          NaN   \n",
       "\n",
       "  grouped_id reactions  restriction_reason ttl_period action  \n",
       "0        NaN       NaN                  []        NaN    NaN  \n",
       "1        NaN       NaN                  []        NaN    NaN  \n",
       "2        NaN       NaN                  []        NaN    NaN  \n",
       "3        NaN       NaN                  []        NaN    NaN  \n",
       "4        NaN       NaN                  []        NaN    NaN  \n",
       "\n",
       "[5 rows x 32 columns]"
      ]
     },
     "execution_count": 12,
     "metadata": {},
     "output_type": "execute_result"
    }
   ],
   "source": [
    "df = pd.read_json(r'channel_messages.json', encoding='utf8')\n",
    "df.head()"
   ]
  },
  {
   "cell_type": "code",
   "execution_count": 13,
   "metadata": {},
   "outputs": [
    {
     "name": "stdout",
     "output_type": "stream",
     "text": [
      "2021-01-06    834\n",
      "2021-01-11    639\n",
      "2021-01-12    588\n",
      "2021-01-10    544\n",
      "2021-01-07    451\n",
      "             ... \n",
      "2022-07-03      1\n",
      "2022-06-24      1\n",
      "2022-06-23      1\n",
      "2022-06-20      1\n",
      "2022-12-14      1\n",
      "Name: date, Length: 590, dtype: int64\n"
     ]
    }
   ],
   "source": [
    "df = df.sort_values(by='date')\n",
    "df['date'] = df['date'].dt.date\n",
    "date = df['date']\n",
    "#df.head()\n",
    "counts = date.value_counts()\n",
    "print(counts)"
   ]
  },
  {
   "cell_type": "code",
   "execution_count": 14,
   "metadata": {},
   "outputs": [
    {
     "data": {
      "text/plain": [
       "[<matplotlib.lines.Line2D at 0x22e8b68d420>]"
      ]
     },
     "execution_count": 14,
     "metadata": {},
     "output_type": "execute_result"
    },
    {
     "data": {
      "image/png": "[encoded data removed]",
      "text/plain": [
       "<Figure size 800x800 with 1 Axes>"
      ]
     },
     "metadata": {},
     "output_type": "display_data"
    }
   ],
   "source": [
    "df_1 = df.groupby('date')['message'].count()\n",
    "plt.figure(figsize=(10, 10), dpi=80)\n",
    "plt.plot(df_1)"
   ]
  },
  {
   "cell_type": "markdown",
   "metadata": {},
   "source": [
    "## Задание 5.2\n",
    "1.Напишите функции для извлечения данных из сообщений:\n",
    "   - пол участника\n",
    "   - возраст участника\n",
    "\n",
    "   Постройте диаграммы для визуализации. \n",
    "\n",
    "2.Реализуйте какой-либо анализ этих данных на ваше усмотрение. Например их можно кластеризовать и интерпретировать кластеры, или попробовать выделить статистику по среднему количеству антител в зависимости от возраста, или посчитать количество заболевших после вакцинации. Обязательна визуализация. "
   ]
  },
  {
   "cell_type": "code",
   "execution_count": 16,
   "metadata": {},
   "outputs": [],
   "source": [
    "def man_or_woman(text):\n",
    "    if pd.notna(text):\n",
    "        pattern = re.compile(r'[Жж]енщина|[Мм]ужчина|\\b[МмЖж]..?\\d\\d|\\b[МмЖж]\\d\\d|\\b[Жж]ен.+\\d\\d\\B|\\b[Мм]уж.+\\d\\d\\B')\n",
    "        find_list = pattern.findall(text)\n",
    "        list_to_write = []\n",
    "        for i in find_list:\n",
    "            list_to_write.append(i[0].upper())\n",
    "        return list_to_write\n",
    "    return []"
   ]
  },
  {
   "cell_type": "code",
   "execution_count": 17,
   "metadata": {},
   "outputs": [
    {
     "data": {
      "text/plain": [
       "<AxesSubplot: >"
      ]
     },
     "execution_count": 17,
     "metadata": {},
     "output_type": "execute_result"
    },
    {
     "data": {
      "image/png": "[encoded data removed]",
      "text/plain": [
       "<Figure size 640x480 with 1 Axes>"
      ]
     },
     "metadata": {},
     "output_type": "display_data"
    }
   ],
   "source": [
    "df['sex'] = df.message.apply(lambda x: man_or_woman(x))\n",
    "df['sex'].explode().hist()"
   ]
  },
  {
   "cell_type": "code",
   "execution_count": 18,
   "metadata": {},
   "outputs": [],
   "source": [
    "def age(text):\n",
    "    if pd.notna(text):\n",
    "        pattern = re.compile(r'\\b[МмЖж]..?\\d\\d|\\b[МмЖж]\\d\\d|\\b\\d\\d\\sгода?|\\b\\d\\d\\sлет')\n",
    "        listage = pattern.findall(text)\n",
    "        list_to_write = []\n",
    "        for i in listage:\n",
    "            if i[-2:].isalpha():\n",
    "                list_to_write.append(int(i[:2]))\n",
    "            else:\n",
    "                list_to_write.append(int(i[-2:]))\n",
    "        return list_to_write\n",
    "    return 0"
   ]
  },
  {
   "cell_type": "code",
   "execution_count": 21,
   "metadata": {},
   "outputs": [
    {
     "data": {
      "text/plain": [
       "<AxesSubplot: >"
      ]
     },
     "execution_count": 21,
     "metadata": {},
     "output_type": "execute_result"
    },
    {
     "data": {
      "image/png": "[encoded data removed]",
      "text/plain": [
       "<Figure size 640x480 with 1 Axes>"
      ]
     },
     "metadata": {},
     "output_type": "display_data"
    }
   ],
   "source": [
    "df['age'] = df.message.apply(lambda x: age(x))\n",
    "df['age'].explode().hist()"
   ]
  },
  {
   "cell_type": "code",
   "execution_count": 22,
   "metadata": {},
   "outputs": [],
   "source": [
    "def avg_bau(text):\n",
    "    if pd.notna(text):\n",
    "#        ages = re.compile(r'\\b[МмЖж]..?\\d\\d|\\b[МмЖж]\\d\\d|\\b\\d\\d\\sгода?|\\b\\d\\d\\sлет')\n",
    "        bau = re.compile(r'\\d+\\s+\\bBAU')\n",
    "#        listage = ages.findall(text)\n",
    "        llistage = bau.findall(text)\n",
    "        list_to_write = []\n",
    "        \n",
    "        for i in range(len(llistage)):\n",
    "            llistage[i] = float(llistage[i][:-3])\n",
    "        list_to_write.append(numpy.mean(llistage))\n",
    "        if type(list_to_write[-1]) is list:\n",
    "            list_to_write[-1] = list_to_write[-1].to_list()[0]\n",
    "#            if i[-2:].isalpha():\n",
    "#                list_to_write.append([int(i[:2]), llistage[-1][:-3]])\n",
    "#            else:\n",
    "#                list_to_write.append([int(i[-2:]), llistage[-1][:-3]])\n",
    "        return list_to_write\n",
    "    return 0"
   ]
  },
  {
   "cell_type": "code",
   "execution_count": null,
   "metadata": {},
   "outputs": [],
   "source": [
    "df['average_bau'] = df.message.apply(lambda x: avg_bau(x))"
   ]
  },
  {
   "cell_type": "code",
   "execution_count": 25,
   "metadata": {},
   "outputs": [],
   "source": [
    "df_copy = df.copy()\n",
    "df_copy['average_bau'] = df['average_bau'].explode()\n",
    "df_copy = df_copy.dropna(subset=['average_bau'])"
   ]
  },
  {
   "cell_type": "code",
   "execution_count": null,
   "metadata": {},
   "outputs": [],
   "source": [
    "x = numpy.array(df_copy['age'].explode()[:df_copy.shape[0]]).reshape(1, -1)[0]\n",
    "y = numpy.array(df_copy['average_bau']).reshape(1, -1)[0]\n",
    "mean = numpy.mean(x)\n",
    "for i in range(len(x)):\n",
    "    if x[i] == numpy.nan:\n",
    "        x[i] = mean"
   ]
  },
  {
   "cell_type": "code",
   "execution_count": null,
   "metadata": {},
   "outputs": [],
   "source": [
    "bins = numpy.linspace(0, 100, 11)\n",
    "print(bins)\n",
    "dic = {}\n",
    "for i in range(len(bins[:-1])):\n",
    "    array_category = []\n",
    "    for j in range(df_copy.shape[0]):\n",
    "        if x[j] >= bins[i] and x[j] < bins[i + 1]:\n",
    "            array_category.append(y[j])\n",
    "    dic[bins[i+1]] = numpy.mean(array_category)"
   ]
  },
  {
   "cell_type": "code",
   "execution_count": 29,
   "metadata": {},
   "outputs": [
    {
     "name": "stdout",
     "output_type": "stream",
     "text": [
      "{10.0: 0.0, 20.0: 47.323076923076925, 30.0: 670.8928174603174, 40.0: 414.3681405895692, 50.0: 397.14588361491013, 60.0: 515.5261904761905, 70.0: 330.0804597701149, 80.0: 311.1222222222222, 90.0: 860.5677083333334, 100.0: nan}\n"
     ]
    }
   ],
   "source": [
    "print(dic)"
   ]
  },
  {
   "cell_type": "code",
   "execution_count": 30,
   "metadata": {},
   "outputs": [
    {
     "name": "stdout",
     "output_type": "stream",
     "text": [
      "dict_keys([10.0, 20.0, 30.0, 40.0, 50.0, 60.0, 70.0, 80.0, 90.0, 100.0]) dict_values([0.0, 47.323076923076925, 670.8928174603174, 414.3681405895692, 397.14588361491013, 515.5261904761905, 330.0804597701149, 311.1222222222222, 860.5677083333334, nan])\n"
     ]
    }
   ],
   "source": [
    "xm = dic.keys()\n",
    "ym = dic.values()\n",
    "print(xm, ym)"
   ]
  },
  {
   "cell_type": "code",
   "execution_count": 31,
   "metadata": {},
   "outputs": [
    {
     "data": {
      "text/plain": [
       "<BarContainer object of 10 artists>"
      ]
     },
     "execution_count": 31,
     "metadata": {},
     "output_type": "execute_result"
    },
    {
     "data": {
      "image/png": "[encoded data removed]",
      "text/plain": [
       "<Figure size 640x480 with 1 Axes>"
      ]
     },
     "metadata": {},
     "output_type": "display_data"
    }
   ],
   "source": [
    "plt.bar(xm, ym, width=5)"
   ]
  }
 ],
 "metadata": {
  "kernelspec": {
   "display_name": ".venv",
   "language": "python",
   "name": "python3"
  },
  "language_info": {
   "codemirror_mode": {
    "name": "ipython",
    "version": 3
   },
   "file_extension": ".py",
   "mimetype": "text/x-python",
   "name": "python",
   "nbconvert_exporter": "python",
   "pygments_lexer": "ipython3",
   "version": "3.10.9"
  },
  "vscode": {
   "interpreter": {
    "hash": "3e18e80a3e461a167047a854983af9be05f4989a068227b1e71aaf378481c72b"
   }
  }
 },
 "nbformat": 4,
 "nbformat_minor": 4
}
